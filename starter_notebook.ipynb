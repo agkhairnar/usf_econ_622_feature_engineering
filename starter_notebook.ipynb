{
 "cells": [
  {
   "cell_type": "markdown",
   "metadata": {},
   "source": [
    "# A Lesson on Feature Engineering\n",
    "\n",
    "Hello! Welcome to a guest lesson from Spencer. Spencer is a software engineer who works with data and machine learning models at [Picnic Health](https://picnichealth.com/).\n",
    "\n",
    "Today's lesson will be on feature engineering. You'll spend the class diving into some example data, developing features and building a model.\n",
    "\n",
    "You'll work individually but will check in with other's periodically to compare ideas.\n",
    "\n",
    "## Setup\n",
    "\n",
    "You're already running this notebook in Colab so good job! Now run the below cells to import packages and load data.\n",
    "\n",
    "## The Goal\n",
    "\n",
    "The plan today is to build a classification model that predicts whether given a bunch of host's listing whether that host will receive a high number of reviews."
   ]
  },
  {
   "cell_type": "code",
   "execution_count": 1,
   "metadata": {},
   "outputs": [],
   "source": [
    "import pandas as pd\n",
    "import matplotlib.pyplot as plt"
   ]
  },
  {
   "cell_type": "code",
   "execution_count": 2,
   "metadata": {},
   "outputs": [],
   "source": [
    "total_ratings_per_host = pd.read_csv('https://raw.githubusercontent.com/sbarton272/usf_econ_622_feature_engineering/master/derived_data/total_ratings_per_host.csv')"
   ]
  },
  {
   "cell_type": "code",
   "execution_count": null,
   "metadata": {},
   "outputs": [],
   "source": [
    "total_ratings_per_host = pd.read_csv('https://raw.githubusercontent.com/sbarton272/usf_econ_622_feature_engineering/master/derived_data/total_ratings_per_host.csv')"
   ]
  },
  {
   "cell_type": "markdown",
   "metadata": {},
   "source": [
    "## Data Exploration\n",
    "\n",
    "You're now going to take some time to explore the data.\n",
    "\n",
    "### The Plan\n",
    "\n",
    "- Spend 10 minutes starting to look at the data\n",
    "- Check-in with your classmates to hear about what they have discovered\n",
    "- Remember you're trying to predict is a host has a `high_number_of_reviews` based on the host's listings.\n",
    "- Consider these questions\n",
    "  - Which columns do you think will best predict `high_number_of_reviews`?\n",
    "  - Are there columns with data that needs to be converted to a better format?\n",
    "  - How many listings are there per host?\n",
    "  - What should you do about null values?\n",
    "\n",
    "### The Datatables\n",
    "\n",
    "You have two csvs imported into pandas dataframes at this point.\n",
    "\n",
    "**`total_ratings_per_host`**\n",
    "\n",
    "This is a table indexed with `host_id` and containing two columns:\n",
    "\n",
    "- `reviews_per_month` contains the total average number of reviews the host gets per month across all of their listings.\n",
    "- `high_number_of_reviews` contains a boolean (0 or 1) indicating if the total average number is above the median for all hosts.\n",
    "\n",
    "**`listings`**\n",
    "\n",
    "This table contains a bunch of data. The `host_id` column can be used to join between this table and the `total_ratings_per_host` table.\n",
    "\n",
    "This table has a bunch of interesting challenges. Some starter code is provided to get you going."
   ]
  },
  {
   "cell_type": "code",
   "execution_count": 3,
   "metadata": {},
   "outputs": [
    {
     "data": {
      "text/plain": [
       "(37758, 3)"
      ]
     },
     "execution_count": 3,
     "metadata": {},
     "output_type": "execute_result"
    }
   ],
   "source": [
    "total_ratings_per_host.shape"
   ]
  },
  {
   "cell_type": "code",
   "execution_count": null,
   "metadata": {},
   "outputs": [],
   "source": []
  }
 ],
 "metadata": {
  "kernelspec": {
   "display_name": "Python 3",
   "language": "python",
   "name": "python3"
  },
  "language_info": {
   "codemirror_mode": {
    "name": "ipython",
    "version": 3
   },
   "file_extension": ".py",
   "mimetype": "text/x-python",
   "name": "python",
   "nbconvert_exporter": "python",
   "pygments_lexer": "ipython3",
   "version": "3.7.6"
  }
 },
 "nbformat": 4,
 "nbformat_minor": 4
}
