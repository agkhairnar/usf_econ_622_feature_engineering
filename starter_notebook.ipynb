{
 "cells": [
  {
   "cell_type": "markdown",
   "metadata": {},
   "source": [
    "# A Lesson on Feature Engineering\n",
    "\n",
    "Hello! Welcome to a guest lesson from Spencer. Spencer is a software engineer who works with data and machine learning models at [Picnic Health](https://picnichealth.com/).\n",
    "\n",
    "Today's lesson will be on feature engineering. You'll spend the class diving into some example data, developing features and building a model.\n",
    "\n",
    "You'll work individually but will check in with other's periodically to compare ideas.\n",
    "\n",
    "## Setup\n",
    "\n",
    "You're already running this notebook in Colab so good job! Now run the below cells to import packages and load data."
   ]
  },
  {
   "cell_type": "code",
   "execution_count": 1,
   "metadata": {},
   "outputs": [],
   "source": [
    "import pandas as pd\n",
    "import matplotlib.pyplot as plt"
   ]
  },
  {
   "cell_type": "code",
   "execution_count": null,
   "metadata": {},
   "outputs": [],
   "source": [
    "pd.read_csv()"
   ]
  },
  {
   "cell_type": "markdown",
   "metadata": {},
   "source": [
    "## Data Exploration\n",
    "\n",
    "You're now going to take some time to explore the data.\n",
    "\n",
    "You have two csvs imported into pandas dataframes at this point.\n",
    "\n",
    "**`total_ratings_per_host`**\n",
    "\n",
    "This is a table indexed with `host_id` and containing two columns:\n",
    "\n",
    "- `reviews_per_month` contains the total average number of reviews the host gets per month across all of their listings.\n",
    "- `high_number_of_reviews` contains a boolean (0 or 1) indicating if the total average number is above the median for all hosts.\n",
    "\n",
    "**`listings`**\n",
    "\n"
   ]
  }
 ],
 "metadata": {
  "kernelspec": {
   "display_name": "Python 3",
   "language": "python",
   "name": "python3"
  },
  "language_info": {
   "codemirror_mode": {
    "name": "ipython",
    "version": 3
   },
   "file_extension": ".py",
   "mimetype": "text/x-python",
   "name": "python",
   "nbconvert_exporter": "python",
   "pygments_lexer": "ipython3",
   "version": "3.7.6"
  }
 },
 "nbformat": 4,
 "nbformat_minor": 4
}
