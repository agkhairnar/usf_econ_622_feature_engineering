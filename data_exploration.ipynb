{
 "cells": [
  {
   "cell_type": "markdown",
   "metadata": {
    "colab_type": "text",
    "id": "6EF-prvhCcEl"
   },
   "source": [
    "# Airbnb Data\n",
    "\n",
    "http://insideairbnb.com/get-the-data.html"
   ]
  },
  {
   "cell_type": "code",
   "execution_count": 1,
   "metadata": {
    "colab": {
     "base_uri": "https://localhost:8080/",
     "height": 165
    },
    "colab_type": "code",
    "id": "YgY-YgW5CeFy",
    "outputId": "424f1e29-9f31-470e-b311-6a1d05c2b671"
   },
   "outputs": [],
   "source": [
    "import pandas as pd\n",
    "listings = pd.read_csv('data/listings.csv', engine='python', error_bad_lines=False)"
   ]
  },
  {
   "cell_type": "code",
   "execution_count": 2,
   "metadata": {
    "colab": {},
    "colab_type": "code",
    "id": "BQTWOdKUCulh"
   },
   "outputs": [
    {
     "data": {
      "text/plain": [
       "(50378, 106)"
      ]
     },
     "execution_count": 2,
     "metadata": {},
     "output_type": "execute_result"
    }
   ],
   "source": [
    "listings.shape"
   ]
  },
  {
   "cell_type": "code",
   "execution_count": 3,
   "metadata": {
    "colab": {},
    "colab_type": "code",
    "id": "MXIKgZ0lFXvL"
   },
   "outputs": [
    {
     "data": {
      "text/plain": [
       "['id',\n",
       " 'listing_url',\n",
       " 'scrape_id',\n",
       " 'last_scraped',\n",
       " 'name',\n",
       " 'summary',\n",
       " 'space',\n",
       " 'description',\n",
       " 'experiences_offered',\n",
       " 'neighborhood_overview',\n",
       " 'notes',\n",
       " 'transit',\n",
       " 'access',\n",
       " 'interaction',\n",
       " 'house_rules',\n",
       " 'thumbnail_url',\n",
       " 'medium_url',\n",
       " 'picture_url',\n",
       " 'xl_picture_url',\n",
       " 'host_id',\n",
       " 'host_url',\n",
       " 'host_name',\n",
       " 'host_since',\n",
       " 'host_location',\n",
       " 'host_about',\n",
       " 'host_response_time',\n",
       " 'host_response_rate',\n",
       " 'host_acceptance_rate',\n",
       " 'host_is_superhost',\n",
       " 'host_thumbnail_url',\n",
       " 'host_picture_url',\n",
       " 'host_neighbourhood',\n",
       " 'host_listings_count',\n",
       " 'host_total_listings_count',\n",
       " 'host_verifications',\n",
       " 'host_has_profile_pic',\n",
       " 'host_identity_verified',\n",
       " 'street',\n",
       " 'neighbourhood',\n",
       " 'neighbourhood_cleansed',\n",
       " 'neighbourhood_group_cleansed',\n",
       " 'city',\n",
       " 'state',\n",
       " 'zipcode',\n",
       " 'market',\n",
       " 'smart_location',\n",
       " 'country_code',\n",
       " 'country',\n",
       " 'latitude',\n",
       " 'longitude',\n",
       " 'is_location_exact',\n",
       " 'property_type',\n",
       " 'room_type',\n",
       " 'accommodates',\n",
       " 'bathrooms',\n",
       " 'bedrooms',\n",
       " 'beds',\n",
       " 'bed_type',\n",
       " 'amenities',\n",
       " 'square_feet',\n",
       " 'price',\n",
       " 'weekly_price',\n",
       " 'monthly_price',\n",
       " 'security_deposit',\n",
       " 'cleaning_fee',\n",
       " 'guests_included',\n",
       " 'extra_people',\n",
       " 'minimum_nights',\n",
       " 'maximum_nights',\n",
       " 'minimum_minimum_nights',\n",
       " 'maximum_minimum_nights',\n",
       " 'minimum_maximum_nights',\n",
       " 'maximum_maximum_nights',\n",
       " 'minimum_nights_avg_ntm',\n",
       " 'maximum_nights_avg_ntm',\n",
       " 'calendar_updated',\n",
       " 'has_availability',\n",
       " 'availability_30',\n",
       " 'availability_60',\n",
       " 'availability_90',\n",
       " 'availability_365',\n",
       " 'calendar_last_scraped',\n",
       " 'number_of_reviews',\n",
       " 'number_of_reviews_ltm',\n",
       " 'first_review',\n",
       " 'last_review',\n",
       " 'review_scores_rating',\n",
       " 'review_scores_accuracy',\n",
       " 'review_scores_cleanliness',\n",
       " 'review_scores_checkin',\n",
       " 'review_scores_communication',\n",
       " 'review_scores_location',\n",
       " 'review_scores_value',\n",
       " 'requires_license',\n",
       " 'license',\n",
       " 'jurisdiction_names',\n",
       " 'instant_bookable',\n",
       " 'is_business_travel_ready',\n",
       " 'cancellation_policy',\n",
       " 'require_guest_profile_picture',\n",
       " 'require_guest_phone_verification',\n",
       " 'calculated_host_listings_count',\n",
       " 'calculated_host_listings_count_entire_homes',\n",
       " 'calculated_host_listings_count_private_rooms',\n",
       " 'calculated_host_listings_count_shared_rooms',\n",
       " 'reviews_per_month']"
      ]
     },
     "execution_count": 3,
     "metadata": {},
     "output_type": "execute_result"
    }
   ],
   "source": [
    "listings.columns.tolist()"
   ]
  },
  {
   "cell_type": "code",
   "execution_count": 4,
   "metadata": {
    "colab": {},
    "colab_type": "code",
    "id": "kq7untx2Fj78"
   },
   "outputs": [
    {
     "data": {
      "text/plain": [
       "0.0"
      ]
     },
     "execution_count": 4,
     "metadata": {},
     "output_type": "execute_result"
    }
   ],
   "source": [
    "listings['price'].isnull().mean()"
   ]
  },
  {
   "cell_type": "code",
   "execution_count": 5,
   "metadata": {
    "colab": {},
    "colab_type": "code",
    "id": "0oJgQWERGEVp"
   },
   "outputs": [
    {
     "data": {
      "text/html": [
       "<div>\n",
       "<style scoped>\n",
       "    .dataframe tbody tr th:only-of-type {\n",
       "        vertical-align: middle;\n",
       "    }\n",
       "\n",
       "    .dataframe tbody tr th {\n",
       "        vertical-align: top;\n",
       "    }\n",
       "\n",
       "    .dataframe thead th {\n",
       "        text-align: right;\n",
       "    }\n",
       "</style>\n",
       "<table border=\"1\" class=\"dataframe\">\n",
       "  <thead>\n",
       "    <tr style=\"text-align: right;\">\n",
       "      <th></th>\n",
       "      <th>0</th>\n",
       "    </tr>\n",
       "  </thead>\n",
       "  <tbody>\n",
       "    <tr>\n",
       "      <th>medium_url</th>\n",
       "      <td>1.000000</td>\n",
       "    </tr>\n",
       "    <tr>\n",
       "      <th>xl_picture_url</th>\n",
       "      <td>1.000000</td>\n",
       "    </tr>\n",
       "    <tr>\n",
       "      <th>thumbnail_url</th>\n",
       "      <td>1.000000</td>\n",
       "    </tr>\n",
       "    <tr>\n",
       "      <th>jurisdiction_names</th>\n",
       "      <td>0.999722</td>\n",
       "    </tr>\n",
       "    <tr>\n",
       "      <th>license</th>\n",
       "      <td>0.999385</td>\n",
       "    </tr>\n",
       "    <tr>\n",
       "      <th>square_feet</th>\n",
       "      <td>0.992159</td>\n",
       "    </tr>\n",
       "    <tr>\n",
       "      <th>monthly_price</th>\n",
       "      <td>0.908035</td>\n",
       "    </tr>\n",
       "    <tr>\n",
       "      <th>weekly_price</th>\n",
       "      <td>0.894021</td>\n",
       "    </tr>\n",
       "    <tr>\n",
       "      <th>notes</th>\n",
       "      <td>0.600341</td>\n",
       "    </tr>\n",
       "    <tr>\n",
       "      <th>access</th>\n",
       "      <td>0.477391</td>\n",
       "    </tr>\n",
       "    <tr>\n",
       "      <th>host_response_time</th>\n",
       "      <td>0.410715</td>\n",
       "    </tr>\n",
       "    <tr>\n",
       "      <th>host_response_rate</th>\n",
       "      <td>0.410715</td>\n",
       "    </tr>\n",
       "    <tr>\n",
       "      <th>interaction</th>\n",
       "      <td>0.405733</td>\n",
       "    </tr>\n",
       "    <tr>\n",
       "      <th>host_about</th>\n",
       "      <td>0.397475</td>\n",
       "    </tr>\n",
       "    <tr>\n",
       "      <th>house_rules</th>\n",
       "      <td>0.394676</td>\n",
       "    </tr>\n",
       "    <tr>\n",
       "      <th>neighborhood_overview</th>\n",
       "      <td>0.346997</td>\n",
       "    </tr>\n",
       "    <tr>\n",
       "      <th>transit</th>\n",
       "      <td>0.346401</td>\n",
       "    </tr>\n",
       "    <tr>\n",
       "      <th>security_deposit</th>\n",
       "      <td>0.343463</td>\n",
       "    </tr>\n",
       "    <tr>\n",
       "      <th>host_acceptance_rate</th>\n",
       "      <td>0.284469</td>\n",
       "    </tr>\n",
       "    <tr>\n",
       "      <th>space</th>\n",
       "      <td>0.281452</td>\n",
       "    </tr>\n",
       "  </tbody>\n",
       "</table>\n",
       "</div>"
      ],
      "text/plain": [
       "                              0\n",
       "medium_url             1.000000\n",
       "xl_picture_url         1.000000\n",
       "thumbnail_url          1.000000\n",
       "jurisdiction_names     0.999722\n",
       "license                0.999385\n",
       "square_feet            0.992159\n",
       "monthly_price          0.908035\n",
       "weekly_price           0.894021\n",
       "notes                  0.600341\n",
       "access                 0.477391\n",
       "host_response_time     0.410715\n",
       "host_response_rate     0.410715\n",
       "interaction            0.405733\n",
       "host_about             0.397475\n",
       "house_rules            0.394676\n",
       "neighborhood_overview  0.346997\n",
       "transit                0.346401\n",
       "security_deposit       0.343463\n",
       "host_acceptance_rate   0.284469\n",
       "space                  0.281452"
      ]
     },
     "execution_count": 5,
     "metadata": {},
     "output_type": "execute_result"
    }
   ],
   "source": [
    "listings.isnull().mean().to_frame().sort_values(0, ascending=False).head(20)"
   ]
  },
  {
   "cell_type": "code",
   "execution_count": 6,
   "metadata": {
    "colab": {},
    "colab_type": "code",
    "id": "_aESBgbXPbz2"
   },
   "outputs": [
    {
     "data": {
      "text/plain": [
       "['medium_url',\n",
       " 'xl_picture_url',\n",
       " 'thumbnail_url',\n",
       " 'jurisdiction_names',\n",
       " 'license',\n",
       " 'square_feet',\n",
       " 'monthly_price',\n",
       " 'weekly_price',\n",
       " 'notes',\n",
       " 'access',\n",
       " 'host_response_time',\n",
       " 'host_response_rate',\n",
       " 'interaction',\n",
       " 'host_about',\n",
       " 'house_rules',\n",
       " 'neighborhood_overview',\n",
       " 'transit',\n",
       " 'security_deposit',\n",
       " 'host_acceptance_rate',\n",
       " 'space']"
      ]
     },
     "execution_count": 6,
     "metadata": {},
     "output_type": "execute_result"
    }
   ],
   "source": [
    "listings.isnull().mean().to_frame().sort_values(0, ascending=False).head(20).index.tolist()"
   ]
  },
  {
   "cell_type": "code",
   "execution_count": 7,
   "metadata": {
    "colab": {},
    "colab_type": "code",
    "id": "6p2w0yjLG-pn"
   },
   "outputs": [
    {
     "data": {
      "text/plain": [
       "count     223.000000\n",
       "mean      225.910314\n",
       "std       540.155067\n",
       "min         1.000000\n",
       "25%        11.500000\n",
       "50%        34.000000\n",
       "75%       159.500000\n",
       "max      3827.000000\n",
       "Name: id, dtype: float64"
      ]
     },
     "execution_count": 7,
     "metadata": {},
     "output_type": "execute_result"
    }
   ],
   "source": [
    "listings.groupby('neighbourhood_cleansed').count()['id'].describe()"
   ]
  },
  {
   "cell_type": "code",
   "execution_count": 8,
   "metadata": {
    "colab": {},
    "colab_type": "code",
    "id": "4OVP-vcgNVj6"
   },
   "outputs": [
    {
     "data": {
      "text/plain": [
       "count    37758.000000\n",
       "mean         1.334234\n",
       "std          3.076352\n",
       "min          1.000000\n",
       "25%          1.000000\n",
       "50%          1.000000\n",
       "75%          1.000000\n",
       "max        307.000000\n",
       "Name: id, dtype: float64"
      ]
     },
     "execution_count": 8,
     "metadata": {},
     "output_type": "execute_result"
    }
   ],
   "source": [
    "listings.groupby('host_id').count()['id'].describe()"
   ]
  },
  {
   "cell_type": "code",
   "execution_count": 9,
   "metadata": {
    "colab": {},
    "colab_type": "code",
    "id": "Tn-IZApYCvpr"
   },
   "outputs": [
    {
     "data": {
      "text/html": [
       "<div>\n",
       "<style scoped>\n",
       "    .dataframe tbody tr th:only-of-type {\n",
       "        vertical-align: middle;\n",
       "    }\n",
       "\n",
       "    .dataframe tbody tr th {\n",
       "        vertical-align: top;\n",
       "    }\n",
       "\n",
       "    .dataframe thead th {\n",
       "        text-align: right;\n",
       "    }\n",
       "</style>\n",
       "<table border=\"1\" class=\"dataframe\">\n",
       "  <thead>\n",
       "    <tr style=\"text-align: right;\">\n",
       "      <th></th>\n",
       "      <th>id</th>\n",
       "      <th>listing_url</th>\n",
       "      <th>scrape_id</th>\n",
       "      <th>last_scraped</th>\n",
       "      <th>name</th>\n",
       "      <th>summary</th>\n",
       "      <th>space</th>\n",
       "      <th>description</th>\n",
       "      <th>experiences_offered</th>\n",
       "      <th>neighborhood_overview</th>\n",
       "      <th>...</th>\n",
       "      <th>instant_bookable</th>\n",
       "      <th>is_business_travel_ready</th>\n",
       "      <th>cancellation_policy</th>\n",
       "      <th>require_guest_profile_picture</th>\n",
       "      <th>require_guest_phone_verification</th>\n",
       "      <th>calculated_host_listings_count</th>\n",
       "      <th>calculated_host_listings_count_entire_homes</th>\n",
       "      <th>calculated_host_listings_count_private_rooms</th>\n",
       "      <th>calculated_host_listings_count_shared_rooms</th>\n",
       "      <th>reviews_per_month</th>\n",
       "    </tr>\n",
       "  </thead>\n",
       "  <tbody>\n",
       "    <tr>\n",
       "      <th>0</th>\n",
       "      <td>2060</td>\n",
       "      <td>https://www.airbnb.com/rooms/2060</td>\n",
       "      <td>20200408162728</td>\n",
       "      <td>2020-04-09</td>\n",
       "      <td>Modern NYC</td>\n",
       "      <td>NaN</td>\n",
       "      <td>Lovely, spacious, sunny 1 BR apartment in 6th ...</td>\n",
       "      <td>Lovely, spacious, sunny 1 BR apartment in 6th ...</td>\n",
       "      <td>none</td>\n",
       "      <td>NaN</td>\n",
       "      <td>...</td>\n",
       "      <td>f</td>\n",
       "      <td>f</td>\n",
       "      <td>flexible</td>\n",
       "      <td>f</td>\n",
       "      <td>f</td>\n",
       "      <td>1</td>\n",
       "      <td>0</td>\n",
       "      <td>1</td>\n",
       "      <td>0</td>\n",
       "      <td>0.01</td>\n",
       "    </tr>\n",
       "    <tr>\n",
       "      <th>1</th>\n",
       "      <td>2595</td>\n",
       "      <td>https://www.airbnb.com/rooms/2595</td>\n",
       "      <td>20200408162728</td>\n",
       "      <td>2020-04-10</td>\n",
       "      <td>Skylit Midtown Castle</td>\n",
       "      <td>Beautiful, spacious skylit studio in the heart...</td>\n",
       "      <td>- Spacious (500+ft²), immaculate and nicely fu...</td>\n",
       "      <td>Beautiful, spacious skylit studio in the heart...</td>\n",
       "      <td>none</td>\n",
       "      <td>Centrally located in the heart of Manhattan ju...</td>\n",
       "      <td>...</td>\n",
       "      <td>f</td>\n",
       "      <td>f</td>\n",
       "      <td>strict_14_with_grace_period</td>\n",
       "      <td>t</td>\n",
       "      <td>t</td>\n",
       "      <td>2</td>\n",
       "      <td>2</td>\n",
       "      <td>0</td>\n",
       "      <td>0</td>\n",
       "      <td>0.38</td>\n",
       "    </tr>\n",
       "    <tr>\n",
       "      <th>2</th>\n",
       "      <td>3831</td>\n",
       "      <td>https://www.airbnb.com/rooms/3831</td>\n",
       "      <td>20200408162728</td>\n",
       "      <td>2020-04-11</td>\n",
       "      <td>Cozy Entire Floor of Brownstone</td>\n",
       "      <td>Urban retreat: enjoy 500 s.f. floor in 1899 br...</td>\n",
       "      <td>Greetings!      We own a double-duplex brownst...</td>\n",
       "      <td>Urban retreat: enjoy 500 s.f. floor in 1899 br...</td>\n",
       "      <td>none</td>\n",
       "      <td>Just the right mix of urban center and local n...</td>\n",
       "      <td>...</td>\n",
       "      <td>f</td>\n",
       "      <td>f</td>\n",
       "      <td>moderate</td>\n",
       "      <td>f</td>\n",
       "      <td>f</td>\n",
       "      <td>1</td>\n",
       "      <td>1</td>\n",
       "      <td>0</td>\n",
       "      <td>0</td>\n",
       "      <td>4.68</td>\n",
       "    </tr>\n",
       "    <tr>\n",
       "      <th>3</th>\n",
       "      <td>5099</td>\n",
       "      <td>https://www.airbnb.com/rooms/5099</td>\n",
       "      <td>20200408162728</td>\n",
       "      <td>2020-04-10</td>\n",
       "      <td>Large Cozy 1 BR Apartment In Midtown East</td>\n",
       "      <td>My large 1 bedroom apartment has a true New Yo...</td>\n",
       "      <td>I have a large 1 bedroom apartment centrally l...</td>\n",
       "      <td>My large 1 bedroom apartment has a true New Yo...</td>\n",
       "      <td>none</td>\n",
       "      <td>My neighborhood in Midtown East is called Murr...</td>\n",
       "      <td>...</td>\n",
       "      <td>f</td>\n",
       "      <td>f</td>\n",
       "      <td>moderate</td>\n",
       "      <td>t</td>\n",
       "      <td>t</td>\n",
       "      <td>1</td>\n",
       "      <td>1</td>\n",
       "      <td>0</td>\n",
       "      <td>0</td>\n",
       "      <td>0.58</td>\n",
       "    </tr>\n",
       "    <tr>\n",
       "      <th>4</th>\n",
       "      <td>5121</td>\n",
       "      <td>https://www.airbnb.com/rooms/5121</td>\n",
       "      <td>20200408162728</td>\n",
       "      <td>2020-04-09</td>\n",
       "      <td>BlissArtsSpace!</td>\n",
       "      <td>NaN</td>\n",
       "      <td>HELLO EVERYONE AND THANKS FOR VISITING BLISS A...</td>\n",
       "      <td>HELLO EVERYONE AND THANKS FOR VISITING BLISS A...</td>\n",
       "      <td>none</td>\n",
       "      <td>NaN</td>\n",
       "      <td>...</td>\n",
       "      <td>f</td>\n",
       "      <td>f</td>\n",
       "      <td>strict_14_with_grace_period</td>\n",
       "      <td>f</td>\n",
       "      <td>f</td>\n",
       "      <td>1</td>\n",
       "      <td>0</td>\n",
       "      <td>1</td>\n",
       "      <td>0</td>\n",
       "      <td>0.38</td>\n",
       "    </tr>\n",
       "  </tbody>\n",
       "</table>\n",
       "<p>5 rows × 106 columns</p>\n",
       "</div>"
      ],
      "text/plain": [
       "     id                        listing_url       scrape_id last_scraped  \\\n",
       "0  2060  https://www.airbnb.com/rooms/2060  20200408162728   2020-04-09   \n",
       "1  2595  https://www.airbnb.com/rooms/2595  20200408162728   2020-04-10   \n",
       "2  3831  https://www.airbnb.com/rooms/3831  20200408162728   2020-04-11   \n",
       "3  5099  https://www.airbnb.com/rooms/5099  20200408162728   2020-04-10   \n",
       "4  5121  https://www.airbnb.com/rooms/5121  20200408162728   2020-04-09   \n",
       "\n",
       "                                        name  \\\n",
       "0                                 Modern NYC   \n",
       "1                      Skylit Midtown Castle   \n",
       "2            Cozy Entire Floor of Brownstone   \n",
       "3  Large Cozy 1 BR Apartment In Midtown East   \n",
       "4                            BlissArtsSpace!   \n",
       "\n",
       "                                             summary  \\\n",
       "0                                                NaN   \n",
       "1  Beautiful, spacious skylit studio in the heart...   \n",
       "2  Urban retreat: enjoy 500 s.f. floor in 1899 br...   \n",
       "3  My large 1 bedroom apartment has a true New Yo...   \n",
       "4                                                NaN   \n",
       "\n",
       "                                               space  \\\n",
       "0  Lovely, spacious, sunny 1 BR apartment in 6th ...   \n",
       "1  - Spacious (500+ft²), immaculate and nicely fu...   \n",
       "2  Greetings!      We own a double-duplex brownst...   \n",
       "3  I have a large 1 bedroom apartment centrally l...   \n",
       "4  HELLO EVERYONE AND THANKS FOR VISITING BLISS A...   \n",
       "\n",
       "                                         description experiences_offered  \\\n",
       "0  Lovely, spacious, sunny 1 BR apartment in 6th ...                none   \n",
       "1  Beautiful, spacious skylit studio in the heart...                none   \n",
       "2  Urban retreat: enjoy 500 s.f. floor in 1899 br...                none   \n",
       "3  My large 1 bedroom apartment has a true New Yo...                none   \n",
       "4  HELLO EVERYONE AND THANKS FOR VISITING BLISS A...                none   \n",
       "\n",
       "                               neighborhood_overview  ... instant_bookable  \\\n",
       "0                                                NaN  ...                f   \n",
       "1  Centrally located in the heart of Manhattan ju...  ...                f   \n",
       "2  Just the right mix of urban center and local n...  ...                f   \n",
       "3  My neighborhood in Midtown East is called Murr...  ...                f   \n",
       "4                                                NaN  ...                f   \n",
       "\n",
       "  is_business_travel_ready          cancellation_policy  \\\n",
       "0                        f                     flexible   \n",
       "1                        f  strict_14_with_grace_period   \n",
       "2                        f                     moderate   \n",
       "3                        f                     moderate   \n",
       "4                        f  strict_14_with_grace_period   \n",
       "\n",
       "  require_guest_profile_picture require_guest_phone_verification  \\\n",
       "0                             f                                f   \n",
       "1                             t                                t   \n",
       "2                             f                                f   \n",
       "3                             t                                t   \n",
       "4                             f                                f   \n",
       "\n",
       "   calculated_host_listings_count  \\\n",
       "0                               1   \n",
       "1                               2   \n",
       "2                               1   \n",
       "3                               1   \n",
       "4                               1   \n",
       "\n",
       "   calculated_host_listings_count_entire_homes  \\\n",
       "0                                            0   \n",
       "1                                            2   \n",
       "2                                            1   \n",
       "3                                            1   \n",
       "4                                            0   \n",
       "\n",
       "  calculated_host_listings_count_private_rooms  \\\n",
       "0                                            1   \n",
       "1                                            0   \n",
       "2                                            0   \n",
       "3                                            0   \n",
       "4                                            1   \n",
       "\n",
       "   calculated_host_listings_count_shared_rooms  reviews_per_month  \n",
       "0                                            0               0.01  \n",
       "1                                            0               0.38  \n",
       "2                                            0               4.68  \n",
       "3                                            0               0.58  \n",
       "4                                            0               0.38  \n",
       "\n",
       "[5 rows x 106 columns]"
      ]
     },
     "execution_count": 9,
     "metadata": {},
     "output_type": "execute_result"
    }
   ],
   "source": [
    "listings.head()"
   ]
  },
  {
   "cell_type": "markdown",
   "metadata": {
    "colab_type": "text",
    "id": "9eTLvdYaGdCj"
   },
   "source": [
    "# Action Plan\n",
    "\n",
    "* Column to predict?\n",
    "* Aggregation would be good\n",
    "  * Summary descriptors\n",
    "  * Host?\n",
    "    * **predict total ratings per month**\n",
    "  * Neighborhood?\n",
    "    * predict legal/not?\n",
    "    * predict avg price\n",
    "    * predict \n",
    "* Data cleaning\n",
    "  * Dealing with missing data\n",
    "  * Dealing with weird enums\n",
    "  * Parsing text\n",
    "* \n",
    "\n"
   ]
  },
  {
   "cell_type": "code",
   "execution_count": 10,
   "metadata": {
    "colab": {},
    "colab_type": "code",
    "id": "krd5qZHGNqFV"
   },
   "outputs": [
    {
     "data": {
      "text/plain": [
       "reviews_per_month    0.0\n",
       "dtype: float64"
      ]
     },
     "execution_count": 10,
     "metadata": {},
     "output_type": "execute_result"
    }
   ],
   "source": [
    "total_ratings = listings.groupby('host_id')['reviews_per_month'].sum().to_frame()\n",
    "total_ratings.isnull().mean()"
   ]
  },
  {
   "cell_type": "code",
   "execution_count": 11,
   "metadata": {
    "colab": {},
    "colab_type": "code",
    "id": "nbh35cD6N0NT"
   },
   "outputs": [
    {
     "data": {
      "text/plain": [
       "(37758, 1)"
      ]
     },
     "execution_count": 11,
     "metadata": {},
     "output_type": "execute_result"
    }
   ],
   "source": [
    "total_ratings.shape"
   ]
  },
  {
   "cell_type": "code",
   "execution_count": 13,
   "metadata": {
    "colab": {},
    "colab_type": "code",
    "id": "uwix89uRN2LU"
   },
   "outputs": [
    {
     "data": {
      "text/plain": [
       "array([<matplotlib.axes._subplots.AxesSubplot object at 0x114062c50>],\n",
       "      dtype=object)"
      ]
     },
     "execution_count": 13,
     "metadata": {},
     "output_type": "execute_result"
    },
    {
     "data": {
      "image/png": "[encoded data removed]",
      "text/plain": [
       "<Figure size 432x288 with 1 Axes>"
      ]
     },
     "metadata": {
      "needs_background": "light"
     },
     "output_type": "display_data"
    }
   ],
   "source": [
    "import matplotlib.pyplot as plt\n",
    "_, ax = plt.subplots()\n",
    "ax.set_yscale('log')\n",
    "total_ratings.hist(ax=ax)"
   ]
  },
  {
   "cell_type": "code",
   "execution_count": 14,
   "metadata": {
    "colab": {},
    "colab_type": "code",
    "id": "AAvq2OI3N_2U"
   },
   "outputs": [
    {
     "data": {
      "text/html": [
       "<div>\n",
       "<style scoped>\n",
       "    .dataframe tbody tr th:only-of-type {\n",
       "        vertical-align: middle;\n",
       "    }\n",
       "\n",
       "    .dataframe tbody tr th {\n",
       "        vertical-align: top;\n",
       "    }\n",
       "\n",
       "    .dataframe thead th {\n",
       "        text-align: right;\n",
       "    }\n",
       "</style>\n",
       "<table border=\"1\" class=\"dataframe\">\n",
       "  <thead>\n",
       "    <tr style=\"text-align: right;\">\n",
       "      <th></th>\n",
       "      <th>reviews_per_month</th>\n",
       "    </tr>\n",
       "  </thead>\n",
       "  <tbody>\n",
       "    <tr>\n",
       "      <th>count</th>\n",
       "      <td>37758.000000</td>\n",
       "    </tr>\n",
       "    <tr>\n",
       "      <th>mean</th>\n",
       "      <td>1.244221</td>\n",
       "    </tr>\n",
       "    <tr>\n",
       "      <th>std</th>\n",
       "      <td>2.842065</td>\n",
       "    </tr>\n",
       "    <tr>\n",
       "      <th>min</th>\n",
       "      <td>0.000000</td>\n",
       "    </tr>\n",
       "    <tr>\n",
       "      <th>25%</th>\n",
       "      <td>0.040000</td>\n",
       "    </tr>\n",
       "    <tr>\n",
       "      <th>50%</th>\n",
       "      <td>0.330000</td>\n",
       "    </tr>\n",
       "    <tr>\n",
       "      <th>75%</th>\n",
       "      <td>1.510000</td>\n",
       "    </tr>\n",
       "    <tr>\n",
       "      <th>max</th>\n",
       "      <td>248.890000</td>\n",
       "    </tr>\n",
       "  </tbody>\n",
       "</table>\n",
       "</div>"
      ],
      "text/plain": [
       "       reviews_per_month\n",
       "count       37758.000000\n",
       "mean            1.244221\n",
       "std             2.842065\n",
       "min             0.000000\n",
       "25%             0.040000\n",
       "50%             0.330000\n",
       "75%             1.510000\n",
       "max           248.890000"
      ]
     },
     "execution_count": 14,
     "metadata": {},
     "output_type": "execute_result"
    }
   ],
   "source": [
    "total_ratings.describe()"
   ]
  },
  {
   "cell_type": "code",
   "execution_count": 15,
   "metadata": {
    "colab": {},
    "colab_type": "code",
    "id": "acbGlXQyON8D"
   },
   "outputs": [
    {
     "data": {
      "text/plain": [
       "reviews_per_month    0.187934\n",
       "dtype: float64"
      ]
     },
     "execution_count": 15,
     "metadata": {},
     "output_type": "execute_result"
    }
   ],
   "source": [
    "(total_ratings == 0.0).mean()"
   ]
  },
  {
   "cell_type": "code",
   "execution_count": 16,
   "metadata": {
    "colab": {},
    "colab_type": "code",
    "id": "RVoy5WKSORgS"
   },
   "outputs": [
    {
     "data": {
      "text/plain": [
       "array([[<matplotlib.axes._subplots.AxesSubplot object at 0x1140ff590>]],\n",
       "      dtype=object)"
      ]
     },
     "execution_count": 16,
     "metadata": {},
     "output_type": "execute_result"
    },
    {
     "data": {
      "image/png": "[encoded data removed]",
      "text/plain": [
       "<Figure size 432x288 with 1 Axes>"
      ]
     },
     "metadata": {
      "needs_background": "light"
     },
     "output_type": "display_data"
    }
   ],
   "source": [
    "total_ratings[total_ratings <= 1].hist()"
   ]
  },
  {
   "cell_type": "code",
   "execution_count": 17,
   "metadata": {
    "colab": {},
    "colab_type": "code",
    "id": "_5LoJ3i0OYop"
   },
   "outputs": [
    {
     "data": {
      "text/plain": [
       "reviews_per_month    0.439721\n",
       "dtype: float64"
      ]
     },
     "execution_count": 17,
     "metadata": {},
     "output_type": "execute_result"
    }
   ],
   "source": [
    "(total_ratings > 0.5).mean()"
   ]
  },
  {
   "cell_type": "code",
   "execution_count": 18,
   "metadata": {
    "colab": {},
    "colab_type": "code",
    "id": "g2rq1UQPOqX9"
   },
   "outputs": [
    {
     "data": {
      "text/html": [
       "<div>\n",
       "<style scoped>\n",
       "    .dataframe tbody tr th:only-of-type {\n",
       "        vertical-align: middle;\n",
       "    }\n",
       "\n",
       "    .dataframe tbody tr th {\n",
       "        vertical-align: top;\n",
       "    }\n",
       "\n",
       "    .dataframe thead th {\n",
       "        text-align: right;\n",
       "    }\n",
       "</style>\n",
       "<table border=\"1\" class=\"dataframe\">\n",
       "  <thead>\n",
       "    <tr style=\"text-align: right;\">\n",
       "      <th></th>\n",
       "      <th>reviews_per_month</th>\n",
       "      <th>high_number_of_ratings</th>\n",
       "    </tr>\n",
       "    <tr>\n",
       "      <th>host_id</th>\n",
       "      <th></th>\n",
       "      <th></th>\n",
       "    </tr>\n",
       "  </thead>\n",
       "  <tbody>\n",
       "    <tr>\n",
       "      <th>2259</th>\n",
       "      <td>0.01</td>\n",
       "      <td>0</td>\n",
       "    </tr>\n",
       "    <tr>\n",
       "      <th>2438</th>\n",
       "      <td>0.04</td>\n",
       "      <td>0</td>\n",
       "    </tr>\n",
       "    <tr>\n",
       "      <th>2571</th>\n",
       "      <td>0.36</td>\n",
       "      <td>1</td>\n",
       "    </tr>\n",
       "    <tr>\n",
       "      <th>2782</th>\n",
       "      <td>0.55</td>\n",
       "      <td>1</td>\n",
       "    </tr>\n",
       "    <tr>\n",
       "      <th>2787</th>\n",
       "      <td>2.79</td>\n",
       "      <td>1</td>\n",
       "    </tr>\n",
       "  </tbody>\n",
       "</table>\n",
       "</div>"
      ],
      "text/plain": [
       "         reviews_per_month  high_number_of_ratings\n",
       "host_id                                           \n",
       "2259                  0.01                       0\n",
       "2438                  0.04                       0\n",
       "2571                  0.36                       1\n",
       "2782                  0.55                       1\n",
       "2787                  2.79                       1"
      ]
     },
     "execution_count": 18,
     "metadata": {},
     "output_type": "execute_result"
    }
   ],
   "source": [
    "total_ratings['high_number_of_ratings'] = (total_ratings > 0.35).astype(int)\n",
    "total_ratings.head()"
   ]
  },
  {
   "cell_type": "code",
   "execution_count": 19,
   "metadata": {
    "colab": {},
    "colab_type": "code",
    "id": "Z2AM4GTMO97G"
   },
   "outputs": [],
   "source": [
    "total_ratings.to_csv('derived_data/total_ratings_per_host.csv')"
   ]
  },
  {
   "cell_type": "code",
   "execution_count": 20,
   "metadata": {
    "colab": {},
    "colab_type": "code",
    "id": "CvrwXUZvP0or"
   },
   "outputs": [
    {
     "data": {
      "text/plain": [
       "['listing_url',\n",
       " 'thumbnail_url',\n",
       " 'medium_url',\n",
       " 'picture_url',\n",
       " 'xl_picture_url',\n",
       " 'host_url',\n",
       " 'host_thumbnail_url',\n",
       " 'host_picture_url']"
      ]
     },
     "execution_count": 20,
     "metadata": {},
     "output_type": "execute_result"
    }
   ],
   "source": [
    "listings.filter(like='url').columns.tolist()"
   ]
  },
  {
   "cell_type": "code",
   "execution_count": 21,
   "metadata": {
    "colab": {},
    "colab_type": "code",
    "id": "GrEjZoXwQH_r"
   },
   "outputs": [
    {
     "data": {
      "text/plain": [
       "['number_of_reviews',\n",
       " 'number_of_reviews_ltm',\n",
       " 'first_review',\n",
       " 'last_review',\n",
       " 'review_scores_rating',\n",
       " 'review_scores_accuracy',\n",
       " 'review_scores_cleanliness',\n",
       " 'review_scores_checkin',\n",
       " 'review_scores_communication',\n",
       " 'review_scores_location',\n",
       " 'review_scores_value',\n",
       " 'reviews_per_month']"
      ]
     },
     "execution_count": 21,
     "metadata": {},
     "output_type": "execute_result"
    }
   ],
   "source": [
    "listings.filter(like='review').columns.tolist()"
   ]
  },
  {
   "cell_type": "code",
   "execution_count": 22,
   "metadata": {
    "colab": {},
    "colab_type": "code",
    "id": "_usxlmKsRkgJ"
   },
   "outputs": [
    {
     "data": {
      "text/plain": [
       "['scrape_id', 'last_scraped', 'calendar_last_scraped']"
      ]
     },
     "execution_count": 22,
     "metadata": {},
     "output_type": "execute_result"
    }
   ],
   "source": [
    "listings.filter(like='scrape').columns.tolist()"
   ]
  },
  {
   "cell_type": "code",
   "execution_count": 71,
   "metadata": {
    "colab": {},
    "colab_type": "code",
    "id": "0pwmmPu2PHoN"
   },
   "outputs": [
    {
     "data": {
      "text/plain": [
       "(50378, 81)"
      ]
     },
     "execution_count": 71,
     "metadata": {},
     "output_type": "execute_result"
    }
   ],
   "source": [
    "# Make listings a little smaller but messy\n",
    "\n",
    "cols_to_drop = [\n",
    "# many nulls\n",
    " 'xl_picture_url',\n",
    " 'thumbnail_url',\n",
    " 'medium_url',\n",
    " 'jurisdiction_names',\n",
    " 'license',\n",
    "#  'square_feet',\n",
    " 'monthly_price',\n",
    " 'weekly_price',\n",
    " 'notes',\n",
    " 'access',\n",
    "#  'host_response_rate',\n",
    "#  'host_response_time',\n",
    " 'interaction',\n",
    " 'host_about',\n",
    " 'house_rules',\n",
    " 'neighborhood_overview',\n",
    " 'security_deposit',\n",
    " 'transit',\n",
    "#  'host_acceptance_rate',\n",
    " 'space',\n",
    " # urls\n",
    " 'listing_url',\n",
    " 'thumbnail_url',\n",
    " 'medium_url',\n",
    " 'picture_url',\n",
    " 'xl_picture_url',\n",
    " 'host_url',\n",
    " 'host_thumbnail_url',\n",
    " 'host_picture_url',\n",
    "# Anything directly review related\n",
    "#  'number_of_reviews',\n",
    "#  'number_of_reviews_ltm',\n",
    "#  'first_review',\n",
    "#  'last_review',\n",
    "#  'review_scores_rating',\n",
    "#  'review_scores_accuracy',\n",
    "#  'review_scores_cleanliness',\n",
    "#  'review_scores_checkin',\n",
    "#  'review_scores_communication',\n",
    "#  'review_scores_location',\n",
    "#  'review_scores_value',\n",
    "#  'reviews_per_month',\n",
    " # scape info\n",
    " 'scrape_id',\n",
    " 'last_scraped',\n",
    " 'calendar_last_scraped',\n",
    "# target\n",
    " 'price',\n",
    " ]\n",
    "\n",
    "updated_listings = listings.drop(columns=cols_to_drop).copy()\n",
    "updated_listings.shape"
   ]
  },
  {
   "cell_type": "code",
   "execution_count": 72,
   "metadata": {},
   "outputs": [],
   "source": [
    "updated_listings = updated_listings.set_index('id')"
   ]
  },
  {
   "cell_type": "code",
   "execution_count": 73,
   "metadata": {
    "colab": {},
    "colab_type": "code",
    "id": "OKtpDcH0QPeu"
   },
   "outputs": [
    {
     "data": {
      "text/plain": [
       "Index(['name', 'summary', 'description', 'experiences_offered', 'host_id',\n",
       "       'host_name', 'host_since', 'host_location', 'host_response_time',\n",
       "       'host_response_rate', 'host_acceptance_rate', 'host_is_superhost',\n",
       "       'host_neighbourhood', 'host_listings_count',\n",
       "       'host_total_listings_count', 'host_verifications',\n",
       "       'host_has_profile_pic', 'host_identity_verified', 'street',\n",
       "       'neighbourhood', 'neighbourhood_cleansed',\n",
       "       'neighbourhood_group_cleansed', 'city', 'state', 'zipcode', 'market',\n",
       "       'smart_location', 'country_code', 'country', 'latitude', 'longitude',\n",
       "       'is_location_exact', 'property_type', 'room_type', 'accommodates',\n",
       "       'bathrooms', 'bedrooms', 'beds', 'bed_type', 'amenities', 'square_feet',\n",
       "       'cleaning_fee', 'guests_included', 'extra_people', 'minimum_nights',\n",
       "       'maximum_nights', 'minimum_minimum_nights', 'maximum_minimum_nights',\n",
       "       'minimum_maximum_nights', 'maximum_maximum_nights',\n",
       "       'minimum_nights_avg_ntm', 'maximum_nights_avg_ntm', 'calendar_updated',\n",
       "       'has_availability', 'availability_30', 'availability_60',\n",
       "       'availability_90', 'availability_365', 'number_of_reviews',\n",
       "       'number_of_reviews_ltm', 'first_review', 'last_review',\n",
       "       'review_scores_rating', 'review_scores_accuracy',\n",
       "       'review_scores_cleanliness', 'review_scores_checkin',\n",
       "       'review_scores_communication', 'review_scores_location',\n",
       "       'review_scores_value', 'requires_license', 'instant_bookable',\n",
       "       'is_business_travel_ready', 'cancellation_policy',\n",
       "       'require_guest_profile_picture', 'require_guest_phone_verification',\n",
       "       'calculated_host_listings_count',\n",
       "       'calculated_host_listings_count_entire_homes',\n",
       "       'calculated_host_listings_count_private_rooms',\n",
       "       'calculated_host_listings_count_shared_rooms', 'reviews_per_month'],\n",
       "      dtype='object')"
      ]
     },
     "execution_count": 73,
     "metadata": {},
     "output_type": "execute_result"
    }
   ],
   "source": [
    "updated_listings.columns"
   ]
  },
  {
   "cell_type": "code",
   "execution_count": 76,
   "metadata": {
    "colab": {},
    "colab_type": "code",
    "id": "zAL5RihlRnja"
   },
   "outputs": [],
   "source": [
    "updated_listings.to_csv('derived_data/listings.csv.zip')"
   ]
  },
  {
   "cell_type": "code",
   "execution_count": 40,
   "metadata": {
    "colab": {},
    "colab_type": "code",
    "id": "IkNuWC-xSK3o"
   },
   "outputs": [
    {
     "data": {
      "text/plain": [
       "(37758, 70)"
      ]
     },
     "execution_count": 40,
     "metadata": {},
     "output_type": "execute_result"
    }
   ],
   "source": [
    "import seaborn as sns\n",
    "\n",
    "X = updated_listings.drop_duplicates('host_id')\n",
    "X.shape"
   ]
  },
  {
   "cell_type": "code",
   "execution_count": 41,
   "metadata": {},
   "outputs": [
    {
     "data": {
      "text/html": [
       "<div>\n",
       "<style scoped>\n",
       "    .dataframe tbody tr th:only-of-type {\n",
       "        vertical-align: middle;\n",
       "    }\n",
       "\n",
       "    .dataframe tbody tr th {\n",
       "        vertical-align: top;\n",
       "    }\n",
       "\n",
       "    .dataframe thead th {\n",
       "        text-align: right;\n",
       "    }\n",
       "</style>\n",
       "<table border=\"1\" class=\"dataframe\">\n",
       "  <thead>\n",
       "    <tr style=\"text-align: right;\">\n",
       "      <th></th>\n",
       "      <th>high_number_of_ratings</th>\n",
       "    </tr>\n",
       "  </thead>\n",
       "  <tbody>\n",
       "    <tr>\n",
       "      <th>minimum_minimum_nights</th>\n",
       "      <td>-0.080903</td>\n",
       "    </tr>\n",
       "    <tr>\n",
       "      <th>minimum_nights</th>\n",
       "      <td>-0.074357</td>\n",
       "    </tr>\n",
       "    <tr>\n",
       "      <th>minimum_nights_avg_ntm</th>\n",
       "      <td>-0.070672</td>\n",
       "    </tr>\n",
       "    <tr>\n",
       "      <th>maximum_minimum_nights</th>\n",
       "      <td>-0.064570</td>\n",
       "    </tr>\n",
       "    <tr>\n",
       "      <th>square_feet</th>\n",
       "      <td>-0.023999</td>\n",
       "    </tr>\n",
       "    <tr>\n",
       "      <th>latitude</th>\n",
       "      <td>-0.017446</td>\n",
       "    </tr>\n",
       "    <tr>\n",
       "      <th>bathrooms</th>\n",
       "      <td>-0.014682</td>\n",
       "    </tr>\n",
       "    <tr>\n",
       "      <th>maximum_nights</th>\n",
       "      <td>-0.007227</td>\n",
       "    </tr>\n",
       "    <tr>\n",
       "      <th>minimum_maximum_nights</th>\n",
       "      <td>-0.007223</td>\n",
       "    </tr>\n",
       "    <tr>\n",
       "      <th>maximum_maximum_nights</th>\n",
       "      <td>0.002137</td>\n",
       "    </tr>\n",
       "    <tr>\n",
       "      <th>maximum_nights_avg_ntm</th>\n",
       "      <td>0.003553</td>\n",
       "    </tr>\n",
       "    <tr>\n",
       "      <th>host_total_listings_count</th>\n",
       "      <td>0.022314</td>\n",
       "    </tr>\n",
       "    <tr>\n",
       "      <th>host_listings_count</th>\n",
       "      <td>0.022314</td>\n",
       "    </tr>\n",
       "    <tr>\n",
       "      <th>calculated_host_listings_count_shared_rooms</th>\n",
       "      <td>0.023198</td>\n",
       "    </tr>\n",
       "    <tr>\n",
       "      <th>calculated_host_listings_count_entire_homes</th>\n",
       "      <td>0.046914</td>\n",
       "    </tr>\n",
       "    <tr>\n",
       "      <th>bedrooms</th>\n",
       "      <td>0.075183</td>\n",
       "    </tr>\n",
       "    <tr>\n",
       "      <th>calculated_host_listings_count_private_rooms</th>\n",
       "      <td>0.082443</td>\n",
       "    </tr>\n",
       "    <tr>\n",
       "      <th>calculated_host_listings_count</th>\n",
       "      <td>0.083761</td>\n",
       "    </tr>\n",
       "    <tr>\n",
       "      <th>longitude</th>\n",
       "      <td>0.102599</td>\n",
       "    </tr>\n",
       "    <tr>\n",
       "      <th>beds</th>\n",
       "      <td>0.127641</td>\n",
       "    </tr>\n",
       "    <tr>\n",
       "      <th>id</th>\n",
       "      <td>0.152708</td>\n",
       "    </tr>\n",
       "    <tr>\n",
       "      <th>accommodates</th>\n",
       "      <td>0.160986</td>\n",
       "    </tr>\n",
       "    <tr>\n",
       "      <th>host_id</th>\n",
       "      <td>0.172464</td>\n",
       "    </tr>\n",
       "    <tr>\n",
       "      <th>guests_included</th>\n",
       "      <td>0.197936</td>\n",
       "    </tr>\n",
       "    <tr>\n",
       "      <th>availability_365</th>\n",
       "      <td>0.333873</td>\n",
       "    </tr>\n",
       "    <tr>\n",
       "      <th>availability_30</th>\n",
       "      <td>0.343731</td>\n",
       "    </tr>\n",
       "    <tr>\n",
       "      <th>availability_60</th>\n",
       "      <td>0.349071</td>\n",
       "    </tr>\n",
       "    <tr>\n",
       "      <th>availability_90</th>\n",
       "      <td>0.354195</td>\n",
       "    </tr>\n",
       "    <tr>\n",
       "      <th>reviews_per_month</th>\n",
       "      <td>0.414111</td>\n",
       "    </tr>\n",
       "    <tr>\n",
       "      <th>high_number_of_ratings</th>\n",
       "      <td>1.000000</td>\n",
       "    </tr>\n",
       "  </tbody>\n",
       "</table>\n",
       "</div>"
      ],
      "text/plain": [
       "                                              high_number_of_ratings\n",
       "minimum_minimum_nights                                     -0.080903\n",
       "minimum_nights                                             -0.074357\n",
       "minimum_nights_avg_ntm                                     -0.070672\n",
       "maximum_minimum_nights                                     -0.064570\n",
       "square_feet                                                -0.023999\n",
       "latitude                                                   -0.017446\n",
       "bathrooms                                                  -0.014682\n",
       "maximum_nights                                             -0.007227\n",
       "minimum_maximum_nights                                     -0.007223\n",
       "maximum_maximum_nights                                      0.002137\n",
       "maximum_nights_avg_ntm                                      0.003553\n",
       "host_total_listings_count                                   0.022314\n",
       "host_listings_count                                         0.022314\n",
       "calculated_host_listings_count_shared_rooms                 0.023198\n",
       "calculated_host_listings_count_entire_homes                 0.046914\n",
       "bedrooms                                                    0.075183\n",
       "calculated_host_listings_count_private_rooms                0.082443\n",
       "calculated_host_listings_count                              0.083761\n",
       "longitude                                                   0.102599\n",
       "beds                                                        0.127641\n",
       "id                                                          0.152708\n",
       "accommodates                                                0.160986\n",
       "host_id                                                     0.172464\n",
       "guests_included                                             0.197936\n",
       "availability_365                                            0.333873\n",
       "availability_30                                             0.343731\n",
       "availability_60                                             0.349071\n",
       "availability_90                                             0.354195\n",
       "reviews_per_month                                           0.414111\n",
       "high_number_of_ratings                                      1.000000"
      ]
     },
     "execution_count": 41,
     "metadata": {},
     "output_type": "execute_result"
    }
   ],
   "source": [
    "mat = X.merge(total_ratings, left_on='host_id', right_index=True)\n",
    "\n",
    "mat.corr()['high_number_of_ratings'].to_frame().sort_values('high_number_of_ratings')"
   ]
  },
  {
   "cell_type": "code",
   "execution_count": 42,
   "metadata": {},
   "outputs": [
    {
     "name": "stdout",
     "output_type": "stream",
     "text": [
      "<class 'pandas.core.frame.DataFrame'>\n",
      "RangeIndex: 50378 entries, 0 to 50377\n",
      "Data columns (total 70 columns):\n",
      " #   Column                                        Non-Null Count  Dtype  \n",
      "---  ------                                        --------------  -----  \n",
      " 0   id                                            50378 non-null  int64  \n",
      " 1   name                                          50361 non-null  object \n",
      " 2   summary                                       47877 non-null  object \n",
      " 3   description                                   49097 non-null  object \n",
      " 4   experiences_offered                           50378 non-null  object \n",
      " 5   host_id                                       50378 non-null  int64  \n",
      " 6   host_name                                     50370 non-null  object \n",
      " 7   host_since                                    50370 non-null  object \n",
      " 8   host_location                                 50225 non-null  object \n",
      " 9   host_response_time                            29687 non-null  object \n",
      " 10  host_response_rate                            29687 non-null  object \n",
      " 11  host_acceptance_rate                          36047 non-null  object \n",
      " 12  host_is_superhost                             50370 non-null  object \n",
      " 13  host_neighbourhood                            42946 non-null  object \n",
      " 14  host_listings_count                           50370 non-null  float64\n",
      " 15  host_total_listings_count                     50370 non-null  float64\n",
      " 16  host_verifications                            50378 non-null  object \n",
      " 17  host_has_profile_pic                          50370 non-null  object \n",
      " 18  host_identity_verified                        50370 non-null  object \n",
      " 19  street                                        50378 non-null  object \n",
      " 20  neighbourhood                                 50365 non-null  object \n",
      " 21  neighbourhood_cleansed                        50378 non-null  object \n",
      " 22  neighbourhood_group_cleansed                  50378 non-null  object \n",
      " 23  city                                          50230 non-null  object \n",
      " 24  state                                         50372 non-null  object \n",
      " 25  zipcode                                       49938 non-null  object \n",
      " 26  market                                        50282 non-null  object \n",
      " 27  smart_location                                50378 non-null  object \n",
      " 28  country_code                                  50378 non-null  object \n",
      " 29  country                                       50378 non-null  object \n",
      " 30  latitude                                      50378 non-null  float64\n",
      " 31  longitude                                     50378 non-null  float64\n",
      " 32  is_location_exact                             50378 non-null  object \n",
      " 33  property_type                                 50378 non-null  object \n",
      " 34  room_type                                     50378 non-null  object \n",
      " 35  accommodates                                  50378 non-null  int64  \n",
      " 36  bathrooms                                     50319 non-null  float64\n",
      " 37  bedrooms                                      50281 non-null  float64\n",
      " 38  beds                                          49858 non-null  float64\n",
      " 39  bed_type                                      50378 non-null  object \n",
      " 40  amenities                                     50378 non-null  object \n",
      " 41  square_feet                                   395 non-null    float64\n",
      " 42  price                                         50378 non-null  object \n",
      " 43  cleaning_fee                                  39704 non-null  object \n",
      " 44  guests_included                               50378 non-null  int64  \n",
      " 45  extra_people                                  50378 non-null  object \n",
      " 46  minimum_nights                                50378 non-null  int64  \n",
      " 47  maximum_nights                                50378 non-null  int64  \n",
      " 48  minimum_minimum_nights                        50378 non-null  int64  \n",
      " 49  maximum_minimum_nights                        50378 non-null  int64  \n",
      " 50  minimum_maximum_nights                        50378 non-null  int64  \n",
      " 51  maximum_maximum_nights                        50378 non-null  int64  \n",
      " 52  minimum_nights_avg_ntm                        50378 non-null  float64\n",
      " 53  maximum_nights_avg_ntm                        50378 non-null  float64\n",
      " 54  calendar_updated                              50378 non-null  object \n",
      " 55  has_availability                              50378 non-null  object \n",
      " 56  availability_30                               50378 non-null  int64  \n",
      " 57  availability_60                               50378 non-null  int64  \n",
      " 58  availability_90                               50378 non-null  int64  \n",
      " 59  availability_365                              50378 non-null  int64  \n",
      " 60  requires_license                              50378 non-null  object \n",
      " 61  instant_bookable                              50378 non-null  object \n",
      " 62  is_business_travel_ready                      50378 non-null  object \n",
      " 63  cancellation_policy                           50378 non-null  object \n",
      " 64  require_guest_profile_picture                 50378 non-null  object \n",
      " 65  require_guest_phone_verification              50378 non-null  object \n",
      " 66  calculated_host_listings_count                50378 non-null  int64  \n",
      " 67  calculated_host_listings_count_entire_homes   50378 non-null  int64  \n",
      " 68  calculated_host_listings_count_private_rooms  50378 non-null  int64  \n",
      " 69  calculated_host_listings_count_shared_rooms   50378 non-null  int64  \n",
      "dtypes: float64(10), int64(18), object(42)\n",
      "memory usage: 26.9+ MB\n"
     ]
    }
   ],
   "source": [
    "updated_listings.info()"
   ]
  },
  {
   "cell_type": "markdown",
   "metadata": {},
   "source": [
    "## Language Work"
   ]
  },
  {
   "cell_type": "code",
   "execution_count": 50,
   "metadata": {},
   "outputs": [
    {
     "data": {
      "text/plain": [
       "array(['Modern NYC', 'Skylit Midtown Castle',\n",
       "       'Cozy Entire Floor of Brownstone', ...,\n",
       "       'Comfort room close to subway, 20 mins to Mid-town',\n",
       "       'Gorgeous Bedroom with WD in Luxury Bldg, Times Sq',\n",
       "       'Brooklyn home'], dtype=object)"
      ]
     },
     "execution_count": 50,
     "metadata": {},
     "output_type": "execute_result"
    }
   ],
   "source": [
    "updated_listings.name.values"
   ]
  },
  {
   "cell_type": "code",
   "execution_count": 51,
   "metadata": {},
   "outputs": [
    {
     "data": {
      "text/plain": [
       "array([\"Lovely, spacious, sunny 1 BR apartment in 6th Floor elevator building steps from gorgeous Fort Tryon Park/The Cloisters in Manhattan, less than 5 min walk from the A-train, 25-minutes to midtown Manhattan. Neighborhood is quiet, safe and hilly. Fully equipped, all brand new kitchen; king size bed; WiFi and cable; and more. We are looking for responsible renters who don't mind feeding our Maine Coon cat while staying there. \",\n",
       "       'Beautiful, spacious skylit studio in the heart of Midtown, Manhattan.  STUNNING SKYLIT STUDIO / 1 BED + SINGLE / FULL BATH / FULL KITCHEN / FIREPLACE / CENTRALLY LOCATED / WiFi + APPLE TV / SHEETS + TOWELS - Spacious (500+ft²), immaculate and nicely furnished & designed studio. - Tuck yourself into the ultra comfortable bed under the skylight. Fall in love with a myriad of bright lights in the city night sky.  - Single-sized bed/convertible floor mattress with luxury bedding (available upon request). - Gorgeous pyramid skylight with amazing diffused natural light, stunning architectural details, soaring high vaulted ceilings, exposed brick, wood burning fireplace, floor seating area with natural zafu cushions, modern style mixed with eclectic art & antique treasures, large full bath, newly renovated kitchen, air conditioning/heat, high speed WiFi Internet, and Apple TV. - Centrally located in the heart of Midtown Manhattan just a few blocks from all subway connections in the very desir',\n",
       "       \"Urban retreat: enjoy 500 s.f. floor in 1899 brownstone, with wood and ceramic flooring throughout, roomy bdrm, & upgraded kitchen & bathroom.  It's sunny and loaded with everything you need. COVID-19 PREVENTION:  Your AirBnb private floor (including bedroom, kitchen/dining, bathroom and linens), as well as common stairwell and areas, and rest of property are regularly cleaned and sanitized with EPA-approved Coronavirus-killing products. Greetings!      We own a double-duplex brownstone in Clinton Hill on Gates near Classon Avenue -  (7 blocks to C train, 5 blocks to G train, minutes to all), in which we host on the entire top floor of the upper duplex.  This is more of an efficiency set-up: it is the top floor on a two-family, double duplex brownstone.  The top floor for our guests consists of a sizable bedroom, full bath and eat-in kitchen for your exclusive use.  Our family occupies the floors below.  You go through a common hallway and staircase, to get to the top floor (2 easy flig\",\n",
       "       ...,\n",
       "       'Located in center of Astoria New York, this private room with huge living room is suitable for singles, couples and friends as it can accommodate up to 2 people. Just minutes walk to subway station, with quick access to Mid-town Manhattan, Central Park, Upper East Side and Downtown Manhattan, surround by restaurants, cool bars, cafes, bank and many convenience. Free high speed WIFI and shampoo provided. A private room with huge living room for your short and extended stays! Ikea brand new beddings and furniture to make your resting time as comfortable as possible. 2 guests maximum no exceptions. I will interact as much as the guest wishes. Communication via Airbnb system is preferred for booking and general questions. The neighborhood is safe, quiet and friendly. Subway, bus, taxi, uber, lyft, via, bike or even walk are easy to access around.',\n",
       "       'Beautiful property in the heart of New York City with designer furniture and ultra-modern kitchenware. You will have a private bedroom with shared bathroom on the 4th floor of a luxury apartment building. \\xa0 In-Unit\\xa0Washer/Dryer  45” TV in living room  Air fryer, Keurig machine, pots, pans, plates, utensils  Study desk and computer chair in bedroom   Fresh towels, bedsheets   Vacuum, mop, cleaning supplies \\u200d♂️ Amenities: 24-hr concierge, resident lounges, gym, game room, theater, outdoor areas  Host has lived in New York for many years and will be able to provide instant help and information via iMessage. ☕️ Starbucks next door  Food Emporium down the block \\xa09 mins. walk to 42 St-Port Authority Subway Station (A/C/E Trains)',\n",
       "       nan], dtype=object)"
      ]
     },
     "execution_count": 51,
     "metadata": {},
     "output_type": "execute_result"
    }
   ],
   "source": [
    "updated_listings.description.values"
   ]
  },
  {
   "cell_type": "code",
   "execution_count": 52,
   "metadata": {},
   "outputs": [
    {
     "data": {
      "text/plain": [
       "array(['$100.00', '$225.00', '$89.00', ..., '$53.00', '$93.00', '$125.00'],\n",
       "      dtype=object)"
      ]
     },
     "execution_count": 52,
     "metadata": {},
     "output_type": "execute_result"
    }
   ],
   "source": [
    "updated_listings.price.values"
   ]
  },
  {
   "cell_type": "code",
   "execution_count": 81,
   "metadata": {},
   "outputs": [
    {
     "data": {
      "text/plain": [
       "array([nan, '$95.00', nan, ..., nan, nan, nan], dtype=object)"
      ]
     },
     "execution_count": 81,
     "metadata": {},
     "output_type": "execute_result"
    }
   ],
   "source": [
    "updated_listings.cleaning_fee.values"
   ]
  },
  {
   "cell_type": "code",
   "execution_count": 68,
   "metadata": {},
   "outputs": [
    {
     "data": {
      "text/html": [
       "<div>\n",
       "<style scoped>\n",
       "    .dataframe tbody tr th:only-of-type {\n",
       "        vertical-align: middle;\n",
       "    }\n",
       "\n",
       "    .dataframe tbody tr th {\n",
       "        vertical-align: top;\n",
       "    }\n",
       "\n",
       "    .dataframe thead th {\n",
       "        text-align: right;\n",
       "    }\n",
       "</style>\n",
       "<table border=\"1\" class=\"dataframe\">\n",
       "  <thead>\n",
       "    <tr style=\"text-align: right;\">\n",
       "      <th></th>\n",
       "      <th>price ($)</th>\n",
       "    </tr>\n",
       "    <tr>\n",
       "      <th>id</th>\n",
       "      <th></th>\n",
       "    </tr>\n",
       "  </thead>\n",
       "  <tbody>\n",
       "    <tr>\n",
       "      <th>2060</th>\n",
       "      <td>100.0</td>\n",
       "    </tr>\n",
       "    <tr>\n",
       "      <th>2595</th>\n",
       "      <td>225.0</td>\n",
       "    </tr>\n",
       "    <tr>\n",
       "      <th>3831</th>\n",
       "      <td>89.0</td>\n",
       "    </tr>\n",
       "    <tr>\n",
       "      <th>5099</th>\n",
       "      <td>200.0</td>\n",
       "    </tr>\n",
       "    <tr>\n",
       "      <th>5121</th>\n",
       "      <td>60.0</td>\n",
       "    </tr>\n",
       "  </tbody>\n",
       "</table>\n",
       "</div>"
      ],
      "text/plain": [
       "      price ($)\n",
       "id             \n",
       "2060      100.0\n",
       "2595      225.0\n",
       "3831       89.0\n",
       "5099      200.0\n",
       "5121       60.0"
      ]
     },
     "execution_count": 68,
     "metadata": {},
     "output_type": "execute_result"
    }
   ],
   "source": [
    "pricing = updated_listings.price.str.extract(r'\\$([\\d.]+)').astype(float)\n",
    "pricing.columns = ['price ($)']\n",
    "pricing.head()"
   ]
  },
  {
   "cell_type": "code",
   "execution_count": 69,
   "metadata": {},
   "outputs": [
    {
     "data": {
      "text/plain": [
       "price ($)    0.0\n",
       "dtype: float64"
      ]
     },
     "execution_count": 69,
     "metadata": {},
     "output_type": "execute_result"
    }
   ],
   "source": [
    "pricing.isnull().mean()"
   ]
  },
  {
   "cell_type": "code",
   "execution_count": 80,
   "metadata": {},
   "outputs": [],
   "source": [
    "pricing['high_price'] = pricing['price ($)'] > 100\n",
    "pricing.to_csv('derived_data/prices.csv.zip')"
   ]
  },
  {
   "cell_type": "code",
   "execution_count": 54,
   "metadata": {},
   "outputs": [
    {
     "data": {
      "text/plain": [
       "id\n",
       "2060        $100.00\n",
       "2595        $225.00\n",
       "3831         $89.00\n",
       "5099        $200.00\n",
       "5121         $60.00\n",
       "             ...   \n",
       "43134678    $220.00\n",
       "43135043     $43.00\n",
       "43135953     $53.00\n",
       "43136152     $93.00\n",
       "43138585    $125.00\n",
       "Name: price, Length: 50378, dtype: object"
      ]
     },
     "execution_count": 54,
     "metadata": {},
     "output_type": "execute_result"
    }
   ],
   "source": [
    "updated_listings.price"
   ]
  },
  {
   "cell_type": "code",
   "execution_count": 77,
   "metadata": {},
   "outputs": [
    {
     "data": {
      "text/plain": [
       "array([[<matplotlib.axes._subplots.AxesSubplot object at 0x116812f10>]],\n",
       "      dtype=object)"
      ]
     },
     "execution_count": 77,
     "metadata": {},
     "output_type": "execute_result"
    },
    {
     "data": {
      "image/png": "[encoded data removed]",
      "text/plain": [
       "<Figure size 432x288 with 1 Axes>"
      ]
     },
     "metadata": {
      "needs_background": "light"
     },
     "output_type": "display_data"
    }
   ],
   "source": [
    "pricing.hist()"
   ]
  },
  {
   "cell_type": "code",
   "execution_count": 79,
   "metadata": {},
   "outputs": [
    {
     "data": {
      "text/plain": [
       "price ($)    100.0\n",
       "dtype: float64"
      ]
     },
     "execution_count": 79,
     "metadata": {},
     "output_type": "execute_result"
    }
   ],
   "source": [
    "pricing.median()"
   ]
  },
  {
   "cell_type": "code",
   "execution_count": null,
   "metadata": {},
   "outputs": [],
   "source": []
  }
 ],
 "metadata": {
  "colab": {
   "name": "USF622_data_discovery.ipynb",
   "provenance": []
  },
  "kernelspec": {
   "display_name": "Python 3",
   "language": "python",
   "name": "python3"
  },
  "language_info": {
   "codemirror_mode": {
    "name": "ipython",
    "version": 3
   },
   "file_extension": ".py",
   "mimetype": "text/x-python",
   "name": "python",
   "nbconvert_exporter": "python",
   "pygments_lexer": "ipython3",
   "version": "3.7.6"
  }
 },
 "nbformat": 4,
 "nbformat_minor": 4
}
